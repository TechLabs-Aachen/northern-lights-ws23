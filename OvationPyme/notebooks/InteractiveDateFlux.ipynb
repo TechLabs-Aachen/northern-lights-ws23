{
 "cells": [
  {
   "cell_type": "code",
   "execution_count": null,
   "metadata": {
    "scrolled": false
   },
   "outputs": [],
   "source": [
    "%pylab inline\n",
    "import numpy as np\n",
    "import matplotlib.pyplot as plt\n",
    "from ovationpyme.ovation_prime import FluxEstimator,AverageEnergyEstimator,BinCorrector\n",
    "from ovationpyme.ovation_utilities import calc_avg_solarwind\n",
    "from ovationpyme.ovation_plotting import latlt2polar,polar2dial,pcolor_flux\n",
    "import ipywidgets\n",
    "from collections import OrderedDict\n",
    "from functools import partial\n",
    "\n",
    "auroral_types = ['diff','mono','wave','ions']\n",
    "flux_types = [\n",
    "                \"energy\",\n",
    "                \"number\",\n",
    "                \"average energy\"\n",
    "            ]\n",
    "\n",
    "def plot_date_fluxes_callback(clicked_button,widgets):\n",
    "    f = plt.figure(figsize=(12,6),dpi=150)\n",
    "    axN = f.add_subplot(121,projection='polar')\n",
    "    axS = f.add_subplot(122,projection='polar')\n",
    "    atype = widgets['atype_select'].value\n",
    "    jtype = widgets['jtype_select'].value\n",
    "    bincorrect = widgets['bincorrect_toggle'].value\n",
    "    combine_hemispheres = widgets['combineNS_toggle'].value\n",
    "    manual_newell = widgets['newell_float'].value\n",
    "    year = widgets['year'].value\n",
    "    month = widgets['month'].value\n",
    "    day = widgets['day'].value\n",
    "    hour = widgets['hour'].value\n",
    "    minute = widgets['minute'].value\n",
    "    dt = datetime.datetime(year,month,day,hour,minute)\n",
    "    dtstr = dt.strftime('%Y%m%d %H:%M')\n",
    "    if jtype=='average energy':\n",
    "        estimator = AverageEnergyEstimator(atype)\n",
    "        get_precip_for_time = estimator.get_eavg_for_time\n",
    "    else:\n",
    "        estimator = FluxEstimator(atype,jtype)\n",
    "        get_precip_for_time = estimator.get_flux_for_time\n",
    "        \n",
    "    if manual_newell != -1.:\n",
    "        estimator._dF = manual_newell\n",
    "    tflux_kwargs = {'combine_hemispheres':combine_hemispheres,\n",
    "                    'return_dF':True}\n",
    "    fluxtupleN = get_precip_for_time(dt,hemi='N',**tflux_kwargs)\n",
    "    mlatgridN,mltgridN,fluxgridN,newell_coupling = fluxtupleN\n",
    "    fluxtupleS = get_precip_for_time(dt,hemi='S',**tflux_kwargs)\n",
    "    mlatgridS,mltgridS,fluxgridS,newell_coupling = fluxtupleS\n",
    "    if bincorrect:\n",
    "        bcN = BinCorrector(mlatgridN,mltgridN)\n",
    "        fluxgridN = bcN.fix(fluxgridN)\n",
    "        bcS = BinCorrector(mlatgridS,mltgridS)\n",
    "        fluxgridS = bcS.fix(fluxgridS)\n",
    "        print(\"Correction Applied\")\n",
    "    pcolor_kwargs = {'cmap':'gnuplot'}\n",
    "    manual_vmin = wgts['vmin_float'].value\n",
    "    if manual_vmin != -1.:\n",
    "        pcolor_kwargs['vmin']=manual_vmin\n",
    "    manual_vmax = wgts['vmax_float'].value\n",
    "    if manual_vmax != -1.:\n",
    "        pcolor_kwargs['vmax']=manual_vmax\n",
    "    mappableN = pcolor_flux(axN,mlatgridN,mltgridN,fluxgridN,'N',**pcolor_kwargs)\n",
    "    mappableS = pcolor_flux(axS,mlatgridS,mltgridS,fluxgridS,'S',**pcolor_kwargs)\n",
    "    f.colorbar(mappableN,ax=axN,label=jtype)\n",
    "    f.colorbar(mappableS,ax=axS,label=jtype)\n",
    "    axN.set_title('Northern Hemisphere')\n",
    "    axS.set_title('Southern Hemisphere')\n",
    "    polar2dial(axN)\n",
    "    polar2dial(axS)\n",
    "    f.suptitle(('%s, %s' % (atype,jtype)\n",
    "                +'\\nNewell Coupling (%s): %f' % (dtstr,newell_coupling)))\n",
    "    plt.show()\n",
    "    \n",
    "\n",
    "wgts = OrderedDict()\n",
    "wgts['year']=ipywidgets.IntText(description='Year',value=2010)\n",
    "wgts['month']=ipywidgets.IntText(description='Month',value=5)\n",
    "wgts['day']=ipywidgets.IntText(description='Day',value=29)\n",
    "wgts['hour']=ipywidgets.IntText(description='Hour',value=12)\n",
    "wgts['minute']=ipywidgets.IntText(description='Minute',value=0)\n",
    "wgts['atype_select']=ipywidgets.Dropdown(options=auroral_types,description='Type of Aurora')\n",
    "wgts['jtype_select']=ipywidgets.Dropdown(options=flux_types,description='Type of Flux')\n",
    "wgts['bincorrect_toggle']=ipywidgets.ToggleButton(description='Correction',value=False)\n",
    "wgts['combineNS_toggle']=ipywidgets.ToggleButton(description='Combine N&S',value=True)\n",
    "wgts['newell_float']=ipywidgets.FloatText(description='Newell Coupling (-1 to use date)',value=-1)\n",
    "wgts['vmin_float']=ipywidgets.FloatText(description='Colorbar Min (-1 is Autoscale)',value=-1)\n",
    "wgts['vmax_float']=ipywidgets.FloatText(description='Colorbar Max (-1 is Autoscale)',value=-1)\n",
    "wgts['run_button'] = ipywidgets.Button(description='Calculate')\n",
    "wgts['run_button'].on_click(partial(plot_date_fluxes_callback,widgets=wgts))\n",
    "\n",
    "for widget_name,widget in wgts.items():\n",
    "    display(widget)"
   ]
  },
  {
   "cell_type": "code",
   "execution_count": null,
   "metadata": {},
   "outputs": [],
   "source": []
  }
 ],
 "metadata": {
  "anaconda-cloud": {},
  "kernelspec": {
   "display_name": "Python 3",
   "language": "python",
   "name": "python3"
  },
  "language_info": {
   "codemirror_mode": {
    "name": "ipython",
    "version": 3
   },
   "file_extension": ".py",
   "mimetype": "text/x-python",
   "name": "python",
   "nbconvert_exporter": "python",
   "pygments_lexer": "ipython3",
   "version": "3.7.4"
  },
  "widgets": {
   "state": {
    "03365937b5854973893a0abfcc5d4ca2": {
     "views": [
      {
       "cell_index": 0
      }
     ]
    },
    "0ea37fe68c7b4a57b06dccdb9c8c5667": {
     "views": [
      {
       "cell_index": 0
      }
     ]
    },
    "3dd2b120e7ea48bfb574846304c264d2": {
     "views": [
      {
       "cell_index": 0
      }
     ]
    },
    "44bb4716e44e4599b5d0004bfe69a798": {
     "views": [
      {
       "cell_index": 0
      }
     ]
    },
    "548a68f9015a4000b4bbacfe9fd1bb9d": {
     "views": [
      {
       "cell_index": 0
      }
     ]
    },
    "5c54b874c02f46cb81d05c177d883c19": {
     "views": [
      {
       "cell_index": 0
      }
     ]
    },
    "65bd41b897274107b05de36e335e2d8c": {
     "views": [
      {
       "cell_index": 0
      }
     ]
    },
    "6a6454eba1e2426ba3f77f1631655bf2": {
     "views": [
      {
       "cell_index": 0
      }
     ]
    },
    "6b3e792849d04f21adc7e791b966b149": {
     "views": [
      {
       "cell_index": 0
      }
     ]
    },
    "70cc7ab915094151b28b2a5d1c95dc2e": {
     "views": [
      {
       "cell_index": 0
      }
     ]
    },
    "7b1789ee92c04df2bd681633250508ff": {
     "views": [
      {
       "cell_index": 0
      }
     ]
    },
    "80a71a6f463947c0877fc86f361d8701": {
     "views": [
      {
       "cell_index": 0
      }
     ]
    },
    "99d87c0e4b2d4fd0a2ee94727068ee50": {
     "views": [
      {
       "cell_index": 0
      }
     ]
    },
    "b48dc3756fcb4746b00455790d1e26af": {
     "views": [
      {
       "cell_index": 0
      }
     ]
    },
    "c26336bafea640e79072a91ea3e22c2a": {
     "views": [
      {
       "cell_index": 0
      }
     ]
    },
    "d62399d17a314e729f9bdf530749fcbd": {
     "views": [
      {
       "cell_index": 0
      }
     ]
    },
    "e18a63aa7ca347609c975ee2b9a23262": {
     "views": [
      {
       "cell_index": 0
      }
     ]
    },
    "eb515975ae4b47a5af09d78e0a13c0f5": {
     "views": [
      {
       "cell_index": 0
      }
     ]
    },
    "ee19a58f26fb4b0ea22876a0e1b010fe": {
     "views": [
      {
       "cell_index": 0
      }
     ]
    }
   },
   "version": "1.2.0"
  }
 },
 "nbformat": 4,
 "nbformat_minor": 1
}
