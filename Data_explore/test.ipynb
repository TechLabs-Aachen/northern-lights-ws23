{
 "cells": [
  {
   "cell_type": "code",
   "execution_count": 2,
   "metadata": {},
   "outputs": [
    {
     "name": "stdout",
     "output_type": "stream",
     "text": [
      "\n",
      "------------IMPORTANT----------------------------\n",
      "Unable to import spacepy. Will fall back to\n",
      "using Omni text files, which may have slightly\n",
      "different data and incomplete metadata\n",
      "-------------------------------------------------\n",
      "\n",
      "https://spdf.gsfc.nasa.gov/pub/data/omni/high_res_omni/omni_5min2023.asc\n",
      "(105120,)\n",
      "Created interval between 2023-12-01 and 2023-12-03, cadence 5min, start index 96192, end index 96768\n"
     ]
    }
   ],
   "source": [
    "from nasaomnireader import omnireader\n",
    "import datetime\n",
    "\n",
    "#Create a time window\n",
    "sTimeIMF = datetime.datetime(2023,12,1)\n",
    "eTimeIMF = datetime.datetime(2023,12,3)\n",
    "\n",
    "#omni_interval is a dictionary-like object\n",
    "#that you can use to get the omni data for\n",
    "#any variable as a numpy array\n",
    "#for any span of time\n",
    "omniInt = omnireader.omni_interval(sTimeIMF,eTimeIMF,'5min')\n",
    "t = omniInt['Epoch'] #datetime timestamps\n",
    "By,Bz = omniInt['BY_GSM'],omniInt['BZ_GSM']"
   ]
  },
  {
   "cell_type": "code",
   "execution_count": 11,
   "metadata": {},
   "outputs": [
    {
     "ename": "AttributeError",
     "evalue": "'omni_interval' object has no attribute 'item'",
     "output_type": "error",
     "traceback": [
      "\u001b[1;31m---------------------------------------------------------------------------\u001b[0m",
      "\u001b[1;31mAttributeError\u001b[0m                            Traceback (most recent call last)",
      "Cell \u001b[1;32mIn[11], line 1\u001b[0m\n\u001b[1;32m----> 1\u001b[0m \u001b[39mprint\u001b[39m(omniInt\u001b[39m.\u001b[39;49mitem())\n",
      "\u001b[1;31mAttributeError\u001b[0m: 'omni_interval' object has no attribute 'item'"
     ]
    }
   ],
   "source": [
    "print(omniInt)"
   ]
  }
 ],
 "metadata": {
  "kernelspec": {
   "display_name": ".venv",
   "language": "python",
   "name": "python3"
  },
  "language_info": {
   "codemirror_mode": {
    "name": "ipython",
    "version": 3
   },
   "file_extension": ".py",
   "mimetype": "text/x-python",
   "name": "python",
   "nbconvert_exporter": "python",
   "pygments_lexer": "ipython3",
   "version": "3.11.4"
  },
  "orig_nbformat": 4
 },
 "nbformat": 4,
 "nbformat_minor": 2
}
