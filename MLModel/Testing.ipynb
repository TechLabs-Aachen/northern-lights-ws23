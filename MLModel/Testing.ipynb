{
 "cells": [
  {
   "cell_type": "code",
   "execution_count": 16,
   "metadata": {},
   "outputs": [
    {
     "name": "stdout",
     "output_type": "stream",
     "text": [
      "(4320,)\n"
     ]
    }
   ],
   "source": [
    "import numpy as np\n",
    "a = np.load(\"C:\\\\Users\\\\jorge\\\\OneDrive\\\\Dokumente\\\\northern-lights-ws23\\\\Data_results_01_2022\\\\Data_results\\\\Bx\\\\2022-01-01 00-00-00.npz\")\n",
    "print(a.f.arr_0.shape)"
   ]
  },
  {
   "cell_type": "code",
   "execution_count": 1,
   "metadata": {},
   "outputs": [],
   "source": [
    "import torch"
   ]
  },
  {
   "cell_type": "code",
   "execution_count": 2,
   "metadata": {},
   "outputs": [
    {
     "ename": "RuntimeError",
     "evalue": "Sizes of tensors must match except in dimension 0. Expected size 80 but got size 7 for tensor number 1 in the list.",
     "output_type": "error",
     "traceback": [
      "\u001b[1;31m---------------------------------------------------------------------------\u001b[0m",
      "\u001b[1;31mRuntimeError\u001b[0m                              Traceback (most recent call last)",
      "Cell \u001b[1;32mIn[2], line 8\u001b[0m\n\u001b[0;32m      6\u001b[0m \u001b[38;5;28;01mwith\u001b[39;00m torch\u001b[38;5;241m.\u001b[39mno_grad():\n\u001b[0;32m      7\u001b[0m     empty_state \u001b[38;5;241m=\u001b[39m test_cell\u001b[38;5;241m.\u001b[39mempty_state()\n\u001b[1;32m----> 8\u001b[0m     \u001b[43mtest_cell\u001b[49m\u001b[38;5;241;43m.\u001b[39;49m\u001b[43mforward\u001b[49m\u001b[43m(\u001b[49m\u001b[43mgrid\u001b[49m\u001b[43m,\u001b[49m\u001b[43m \u001b[49m\u001b[43mparameters\u001b[49m\u001b[43m,\u001b[49m\u001b[43m \u001b[49m\u001b[43mempty_state\u001b[49m\u001b[43m)\u001b[49m\n",
      "File \u001b[1;32mc:\\Users\\jorge\\OneDrive\\Dokumente\\northern-lights-ws23\\MLModel\\Model\\autoencoder.py:20\u001b[0m, in \u001b[0;36mEncoderCell.forward\u001b[1;34m(self, Grids, Parameters, hiddenstate)\u001b[0m\n\u001b[0;32m     17\u001b[0m \u001b[38;5;28;01mdef\u001b[39;00m \u001b[38;5;21mforward\u001b[39m(\u001b[38;5;28mself\u001b[39m, Grids, Parameters, hiddenstate):\n\u001b[0;32m     18\u001b[0m     output, (h_n, c_n) \u001b[38;5;241m=\u001b[39m \u001b[38;5;28mself\u001b[39m\u001b[38;5;241m.\u001b[39mParameterslstm(Parameters, hiddenstate)\n\u001b[1;32m---> 20\u001b[0m     all_t \u001b[38;5;241m=\u001b[39m \u001b[38;5;28mself\u001b[39m\u001b[38;5;241m.\u001b[39mGridscnn(\u001b[43mtorch\u001b[49m\u001b[38;5;241;43m.\u001b[39;49m\u001b[43mcat\u001b[49m\u001b[43m(\u001b[49m\u001b[43m[\u001b[49m\u001b[43mGrids\u001b[49m\u001b[43m,\u001b[49m\u001b[43m \u001b[49m\u001b[43mhiddenstate\u001b[49m\u001b[43m[\u001b[49m\u001b[38;5;241;43m0\u001b[39;49m\u001b[43m]\u001b[49m\u001b[43m]\u001b[49m\u001b[43m)\u001b[49m)\n\u001b[0;32m     21\u001b[0m     f_t, i_t, o_t, c_t_tilde \u001b[38;5;241m=\u001b[39m torch\u001b[38;5;241m.\u001b[39msplit(all_t)\n\u001b[0;32m     22\u001b[0m     f_t \u001b[38;5;241m=\u001b[39m torch\u001b[38;5;241m.\u001b[39msigmoid(f_t)\n",
      "\u001b[1;31mRuntimeError\u001b[0m: Sizes of tensors must match except in dimension 0. Expected size 80 but got size 7 for tensor number 1 in the list."
     ]
    }
   ],
   "source": [
    "import torch\n",
    "from Model import autoencoder\n",
    "test_cell = autoencoder.EncoderCell(80,4320,128,16)\n",
    "grid = torch.randn(1, 80,96)\n",
    "parameters = torch.randn(1, 7, 4320)\n",
    "with torch.no_grad():\n",
    "    empty_state = test_cell.empty_state()\n",
    "    test_cell.forward(grid, parameters, empty_state)"
   ]
  }
 ],
 "metadata": {
  "kernelspec": {
   "display_name": ".venv",
   "language": "python",
   "name": "python3"
  },
  "language_info": {
   "codemirror_mode": {
    "name": "ipython",
    "version": 3
   },
   "file_extension": ".py",
   "mimetype": "text/x-python",
   "name": "python",
   "nbconvert_exporter": "python",
   "pygments_lexer": "ipython3",
   "version": "3.10.9"
  }
 },
 "nbformat": 4,
 "nbformat_minor": 2
}
